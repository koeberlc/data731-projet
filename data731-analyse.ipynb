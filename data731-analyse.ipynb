{
 "cells": [
  {
   "cell_type": "markdown",
   "metadata": {},
   "source": []
  },
  {
   "cell_type": "code",
   "execution_count": null,
   "metadata": {},
   "outputs": [],
   "source": [
    "import random as aleas  # pour generer des nombres aleatoires et +\n",
    "import matplotlib.pyplot as plt # pour les graphiques\n",
    "from scipy.signal import freqz   # pour avoir le TF de l'autocorrelation\n",
    "import numpy as np #pour gerer les moyennes + covariances +++\n",
    "\n",
    "import csv\n",
    "import pandas as pd"
   ]
  },
  {
   "cell_type": "code",
   "execution_count": null,
   "metadata": {},
   "outputs": [],
   "source": [
    "data = []\n",
    "title_name = []\n",
    "cpt = 0\n",
    "with open('crime.csv', newline='') as csvfile:\n",
    "    reader = csv.DictReader(csvfile)\n",
    "\n",
    "    fieldnames = reader.fieldnames\n",
    "\n",
    "    for row in reader:\n",
    "        if(cpt != 0):\n",
    "            cpt+=1\n",
    "        else:\n",
    "            data.append(row)\n"
   ]
  },
  {
   "cell_type": "code",
   "execution_count": null,
   "metadata": {},
   "outputs": [],
   "source": [
    "# How has crime changed over the years?\n",
    "# Is it possible to predict where or when a crime will be committed?\n",
    "# Which areas of the city have evolved over this time span?\n",
    "# In which area most crimes are committed?"
   ]
  },
  {
   "cell_type": "code",
   "execution_count": null,
   "metadata": {},
   "outputs": [],
   "source": [
    "#Analyse temporelle (année, mois)\n",
    "year2015 = []\n",
    "year2016 = []\n",
    "year2017 = []\n",
    "year2018 = []\n",
    "years = [year2015,year2016,year2017,year2018]\n",
    "for c in data:\n",
    "    if(c[\"YEAR\"] == \"2015\"):\n",
    "        year2015.append(c)\n",
    "    elif(c[\"YEAR\"] == \"2016\"):\n",
    "        year2016.append(c)\n",
    "    elif(c[\"YEAR\"] == \"2017\"):\n",
    "        year2017.append(c)\n",
    "    elif(c[\"YEAR\"] == \"2018\"):\n",
    "        year2018.append(c)\n",
    "\n",
    "#print(year2018)\n",
    "\n",
    "nb_crime2015 = len(year2015)\n",
    "nb_crime2016 = len(year2016)\n",
    "nb_crime2017 = len(year2017)\n",
    "nb_crime2018 = len(year2018)\n",
    "\n",
    "nb_crime = [nb_crime2015, nb_crime2016, nb_crime2017,nb_crime2018]\n",
    "\n",
    "years_nb = [2015,2016,2017,2018]\n",
    "crime_year = {}\n",
    "for y in years_nb:\n",
    "    crime_year[str(y)] = nb_crime[years_nb.index(y)]\n",
    "\n",
    "\n",
    "\n",
    "\n"
   ]
  },
  {
   "cell_type": "code",
   "execution_count": null,
   "metadata": {},
   "outputs": [],
   "source": [
    "fig = plt.figure()\n",
    "fig.patch.set_facecolor('xkcd:white')\n",
    "plt.bar(crime_year.keys(), crime_year.values())\n",
    "plt.show()"
   ]
  },
  {
   "cell_type": "code",
   "execution_count": null,
   "metadata": {},
   "outputs": [],
   "source": [
    "#Analyse par district\n",
    "def get_crime_district(data):\n",
    "    crime_district = {}\n",
    "    districts = {}\n",
    "    for c in data:\n",
    "        if(c[\"DISTRICT\"] != \"\"):\n",
    "            if(not c[\"DISTRICT\"] in crime_district):\n",
    "                crime_district[c[\"DISTRICT\"]] = 0\n",
    "                districts[c[\"DISTRICT\"]] = []\n",
    "            crime_district[c[\"DISTRICT\"]] += 1\n",
    "            districts[c[\"DISTRICT\"]].append(c)\n",
    "    crime_district = {k: v for k, v in sorted(crime_district.items(), key=lambda item: item[1])}\n",
    "    return crime_district, districts\n",
    "\n",
    "crime_district, districts = get_crime_district(data)"
   ]
  },
  {
   "cell_type": "code",
   "execution_count": null,
   "metadata": {},
   "outputs": [],
   "source": [
    "fig = plt.figure()\n",
    "fig.patch.set_facecolor('xkcd:white')\n",
    "plt.bar(crime_district.keys(), crime_district.values())\n",
    "plt.show()"
   ]
  },
  {
   "cell_type": "code",
   "execution_count": null,
   "metadata": {},
   "outputs": [],
   "source": [
    "#Analyse par types (Offense Code group)\n",
    "def get_5_most_crime_type(data):\n",
    "    list_top_crime = []\n",
    "    crime_type = {}\n",
    "\n",
    "    top_5 = {}\n",
    "\n",
    "    for d in data:\n",
    "        if d[\"OFFENSE_CODE_GROUP\"] in crime_type:\n",
    "            crime_type[d[\"OFFENSE_CODE_GROUP\"]] += 1\n",
    "        else:\n",
    "            crime_type[d[\"OFFENSE_CODE_GROUP\"]] = 1\n",
    "        \n",
    "    crime_type = {k: v for k, v in sorted(crime_type.items(), key=lambda item: item[1], reverse = True)}\n",
    "\n",
    "    top5_crime_type = dict(list(crime_type.items())[:5])\n",
    "\n",
    "    for keys in top5_crime_type.keys():\n",
    "        top_5[keys] = []\n",
    "\n",
    "    for d in data:\n",
    "        if d[\"OFFENSE_CODE_GROUP\"] in top_5:\n",
    "            top_5[d[\"OFFENSE_CODE_GROUP\"]].append(d)\n",
    "\n",
    "    return top5_crime_type, top_5\n",
    "\n",
    "top5_crime_type, top_5 = get_5_most_crime_type(data)\n"
   ]
  },
  {
   "cell_type": "code",
   "execution_count": null,
   "metadata": {},
   "outputs": [],
   "source": [
    "fig = plt.figure()\n",
    "fig.patch.set_facecolor('xkcd:white')\n",
    "\n",
    "top5_crime_type, top_5 = get_5_most_crime_type(data)\n",
    "\n",
    "plt.bar(top5_crime_type.keys(), top5_crime_type.values())\n",
    "plt.show()"
   ]
  },
  {
   "cell_type": "code",
   "execution_count": null,
   "metadata": {},
   "outputs": [],
   "source": [
    "#Analyse des crimes par district en fonction des années\n",
    "crime_district_annee = []\n",
    "for ys in years:\n",
    "    crime_district, districts = get_crime_district(ys)\n",
    "    crime_district_annee.append(crime_district)"
   ]
  },
  {
   "cell_type": "code",
   "execution_count": null,
   "metadata": {},
   "outputs": [],
   "source": [
    "fig = plt.figure(figsize = (10,10))\n",
    "\n",
    "fig.patch.set_facecolor('xkcd:white')\n",
    "cpt = 0\n",
    "for cda in crime_district_annee:\n",
    "    cpt += 1\n",
    "    ax = plt.subplot(2,2,cpt)\n",
    "    ax = plt.ylim(0,18000)\n",
    "    ax = plt.bar(cda.keys(), cda.values())\n",
    "    ax = plt.title(years_nb[crime_district_annee.index(cda)])\n",
    "\n",
    "plt.show()"
   ]
  },
  {
   "cell_type": "code",
   "execution_count": null,
   "metadata": {},
   "outputs": [],
   "source": [
    "#Analyse des types de crimes en fonction des années\n",
    "crime_type_annee = []\n",
    "for ys in years:\n",
    "    top5_crime_type, top_5 = get_5_most_crime_type(ys)\n",
    "    crime_type_annee.append(top5_crime_type)"
   ]
  },
  {
   "cell_type": "code",
   "execution_count": null,
   "metadata": {},
   "outputs": [],
   "source": [
    "fig = plt.figure(figsize = (10,10))\n",
    "fig.patch.set_facecolor('xkcd:white')\n",
    "cpt = 0\n",
    "\n",
    "for cda in crime_type_annee:\n",
    "    cpt += 1\n",
    "    ax = plt.subplot(2,2,cpt)\n",
    "    ax = plt.ylim(0,13000)\n",
    "    ax = plt.bar(cda.keys(), cda.values())\n",
    "    ax = plt.title(years_nb[crime_type_annee.index(cda)])\n",
    "\n",
    "plt.show()"
   ]
  },
  {
   "cell_type": "code",
   "execution_count": null,
   "metadata": {},
   "outputs": [],
   "source": [
    "#Analyse des types d'infractions par district\n",
    "crime_type_district = []\n",
    "crime_district, districts = get_crime_district(data)\n",
    "for ds in districts.values():\n",
    "    top5_crime_type, top_5 = get_5_most_crime_type(ds)\n",
    "    crime_type_district.append(top5_crime_type)"
   ]
  },
  {
   "cell_type": "code",
   "execution_count": null,
   "metadata": {},
   "outputs": [],
   "source": [
    "fig = plt.figure(figsize = (30,20))\n",
    "fig.patch.set_facecolor('xkcd:white')\n",
    "cpt = 0\n",
    "for ctd in crime_type_district:\n",
    "    cpt += 1\n",
    "    ax = plt.subplot(4,3,cpt)\n",
    "    ax = plt.ylim(0,8000)\n",
    "    ax = plt.bar(ctd.keys(), ctd.values())\n",
    "    ax = plt.title(list(districts.keys())[crime_type_district.index(ctd)])\n",
    "\n",
    "plt.show()"
   ]
  },
  {
   "cell_type": "code",
   "execution_count": 48,
   "metadata": {},
   "outputs": [
    {
     "name": "stdout",
     "output_type": "stream",
     "text": [
      "{'E18': -980, 'C11': -4131, 'B2': -4219, 'D4': -3270, 'B3': -2764, 'C6': -1225, 'E13': -1455, 'E5': -961, 'A1': -2481, 'A15': -506, 'D14': -1663, 'A7': -1171}\n"
     ]
    }
   ],
   "source": [
    "# Which areas of the city have evolved over this time span?\n",
    "#Prendre les données de chaque district par années et faire un graph qui montre la différence en 2018 et 2015.\n",
    "diff_crime_district = {}\n",
    "\n",
    "crime_district2015, districts2015 = get_crime_district(years[1])\n",
    "#print(crime_district2015)\n",
    "crime_district2018, districts2018 = get_crime_district(years[3])\n",
    "\n",
    "for ds2015 in districts2015:\n",
    "    #print(ds2015)\n",
    "    for ds2018 in districts2018:\n",
    "        if ds2015 == ds2018:\n",
    "            diff_crime_district[ds2015] = (crime_district2018[ds2018] - crime_district2015[ds2015])\n",
    "\n",
    "print(diff_crime_district)\n",
    "\n",
    "\n"
   ]
  },
  {
   "cell_type": "code",
   "execution_count": 49,
   "metadata": {},
   "outputs": [
    {
     "data": {
      "image/png": "[encoded data removed]",
      "text/plain": [
       "<Figure size 720x720 with 1 Axes>"
      ]
     },
     "metadata": {},
     "output_type": "display_data"
    }
   ],
   "source": [
    "fig = plt.figure(figsize = (10,10))\n",
    "fig.patch.set_facecolor('xkcd:white')\n",
    "\n",
    "diff_crime_district = {k: v for k, v in sorted(crime_type.items(), key=lambda item: item[1], reverse = True)}\n",
    "\n",
    "plt.bar(diff_crime_district.keys(), diff_crime_district.values(), )\n",
    "#ax = plt.title(years_nb[crime_district_annee.index(cda)])\n",
    "\n",
    "plt.show()"
   ]
  },
  {
   "cell_type": "code",
   "execution_count": null,
   "metadata": {},
   "outputs": [],
   "source": []
  },
  {
   "cell_type": "markdown",
   "metadata": {},
   "source": [
    "certaines infraction peuvent avoir des corrélation d'autres pas du tout\n",
    "voir corrélation entre infraction et district\n",
    "corrélation entre temps et infraction (hivers/été d'une année a l'autre)\n",
    "\n",
    "ex: aux us, quand il y a une attaque pistolet college lycée -> souvent une autre -> puis pas d'autres pdt un moment\n",
    "-> passage à l'act\n",
    "\n",
    "contabiliser non d'incident\n",
    "voir corrélation entre district -> récupérer données de 2018 -> calcul de corrélation entre 2 districts\n",
    "10 incident dans le mois de janvier dans district 1 -> aussi district 2 ?\n",
    "pareil sur corrélation entre mois\n",
    "\n",
    "calculer coef corrélation entre district sur les mois\n",
    "\n",
    "différence entre 2015 - 2018 \n",
    "affiner -> phénomene causant l'augmentation ou diminution -> achat voiture/plus de personne/catastrophe...\n",
    "ex : crise covid -> 1année où l'utilisation des véhicules a dimuniés\n",
    "\n",
    "np.correlate(data1, data2, \"full\")"
   ]
  }
 ],
 "metadata": {
  "interpreter": {
   "hash": "7c5875c8a3f8b7d118f592b7ef69e4a6f33b9b69130cabf02a076e15408a5383"
  },
  "kernelspec": {
   "display_name": "Python 3.7.4 32-bit",
   "language": "python",
   "name": "python3"
  },
  "language_info": {
   "codemirror_mode": {
    "name": "ipython",
    "version": 3
   },
   "file_extension": ".py",
   "mimetype": "text/x-python",
   "name": "python",
   "nbconvert_exporter": "python",
   "pygments_lexer": "ipython3",
   "version": "3.9.5"
  },
  "orig_nbformat": 4
 },
 "nbformat": 4,
 "nbformat_minor": 2
}
