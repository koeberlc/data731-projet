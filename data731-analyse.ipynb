{
 "cells": [
  {
   "cell_type": "code",
   "execution_count": null,
   "metadata": {},
   "outputs": [],
   "source": [
    "import random as aleas  # pour generer des nombres aleatoires et +\n",
    "import matplotlib.pyplot as plt # pour les graphiques\n",
    "from scipy.signal import freqz   # pour avoir le TF de l'autocorrelation\n",
    "import numpy as np #pour gerer les moyennes + covariances +++\n",
    "\n",
    "import csv"
   ]
  },
  {
   "cell_type": "code",
   "execution_count": null,
   "metadata": {},
   "outputs": [],
   "source": [
    "with open('eggs.csv', newline='') as csvfile:\n",
    "    spamreader = csv.reader(csvfile, delimiter=' ', quotechar='|')\n",
    "    for row in spamreader:\n",
    "        print(', '.join(row))\n"
   ]
  }
 ],
 "metadata": {
  "interpreter": {
   "hash": "7c5875c8a3f8b7d118f592b7ef69e4a6f33b9b69130cabf02a076e15408a5383"
  },
  "kernelspec": {
   "display_name": "Python 3.7.4 32-bit",
   "language": "python",
   "name": "python3"
  },
  "language_info": {
   "name": "python",
   "version": "3.7.4"
  },
  "orig_nbformat": 4
 },
 "nbformat": 4,
 "nbformat_minor": 2
}
